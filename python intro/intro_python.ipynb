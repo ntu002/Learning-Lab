{
 "cells": [
  {
   "cell_type": "code",
   "execution_count": 4,
   "id": "a3a24ad5",
   "metadata": {},
   "outputs": [
    {
     "name": "stdout",
     "output_type": "stream",
     "text": [
      "[1, 1, 1, 2, 3, 4, 4, 5, 6, 6, 7, 19]\n"
     ]
    }
   ],
   "source": [
    "def quicksort(arr):\n",
    "    if len(arr) <= 1:\n",
    "        return arr\n",
    "    pivot = arr[len(arr) // 2]\n",
    "    left = [x for x in arr if x < pivot]\n",
    "    middle = [x for x in arr if x == pivot]\n",
    "    right = [x for x in arr if x > pivot]\n",
    "    \n",
    "    return quicksort(left) + middle + quicksort(right)\n",
    "\n",
    "print(quicksort([2,3,1,4,5,6,1,1,19,6,7,4]))"
   ]
  },
  {
   "cell_type": "code",
   "execution_count": 5,
   "id": "aaad8a17",
   "metadata": {},
   "outputs": [
    {
     "name": "stdout",
     "output_type": "stream",
     "text": [
      "<class 'int'>\n",
      "3\n",
      "2\n",
      "4\n",
      "15\n",
      "9\n",
      "4\n",
      "8\n",
      "<class 'float'>\n",
      "2.5 3.5 5.0 6.25\n"
     ]
    }
   ],
   "source": [
    "x = 3\n",
    "print(type(x)) # -> <class 'int'>\n",
    "print(x) # -> 3\n",
    "print(x - 1) # -> 2\n",
    "print(x + 1) # -> 4\n",
    "print(x * 5) # -> 15 \n",
    "print(x ** 2) # 3^2 = 9\n",
    "\n",
    "x += 1\n",
    "print(x) # -> 4\n",
    "\n",
    "x *= 2\n",
    "print(x) # -> 8\n",
    "\n",
    "y = 2.5\n",
    "print(type(y)) # -> <class 'fload'>\n",
    "print(y, y + 1, y * 2, y ** 2) # -> 2.5, 3.5, 5.0, 6.25\n",
    "\n",
    "# python does not have (x++) or (x--)"
   ]
  },
  {
   "cell_type": "code",
   "execution_count": 7,
   "id": "ba7ae2b8",
   "metadata": {},
   "outputs": [
    {
     "name": "stdout",
     "output_type": "stream",
     "text": [
      "<class 'bool'>\n",
      "True\n",
      "True\n",
      "False\n",
      "False\n"
     ]
    }
   ],
   "source": [
    "# Booleans\n",
    "\n",
    "t = True\n",
    "f = False\n",
    "print(type(t)) # -> <class 'bool'>\n",
    "print(t and t) # -> True\n",
    "print(t or t) # -> True \n",
    "print(not t) # -> False\n",
    "print(t != t) # -> False"
   ]
  },
  {
   "cell_type": "code",
   "execution_count": 25,
   "id": "6f56aa2e",
   "metadata": {},
   "outputs": [
    {
     "name": "stdout",
     "output_type": "stream",
     "text": [
      "hello\n",
      "5\n",
      "hello world\n",
      "hello world 12\n",
      "Tu nguyen\n",
      "TU NGUYEN\n",
      "      tu nguyen\n",
      "   tu nguyen   \n",
      "tu nguyen\n",
      "world ..\n"
     ]
    }
   ],
   "source": [
    "# Strings\n",
    "\n",
    "# '' similar to \"\"\n",
    "hello = 'hello'\n",
    "world = \"world\"\n",
    "\n",
    "\n",
    "print(hello)\n",
    "print(len(hello))\n",
    "\n",
    "\n",
    "hw  = hello + ' ' + world\n",
    "print(hw)\n",
    "\n",
    "# sprintf style string formatting\n",
    "hw12 = '%s %s %d' %(hello, world, 12)\n",
    "print(hw12)\n",
    "\n",
    "s = 'tu nguyen'\n",
    "print(s.capitalize()) # viet hoa chu cai dau -> Tu nguyen\n",
    "print(s.upper()) # viet hoa ca chuoi -> TU NGUYEN\n",
    "print(s.rjust(15)) # can le trai\n",
    "print(s.center(15)) # can giua\n",
    "print(s.replace('l', '(ell)')) # thay the \n",
    "print('   world ..   '.strip()) # loai bo khoang trang o dau va cuoi"
   ]
  },
  {
   "cell_type": "code",
   "execution_count": 37,
   "id": "c896f920",
   "metadata": {},
   "outputs": [
    {
     "name": "stdout",
     "output_type": "stream",
     "text": [
      "[3, 1, 2] 2\n",
      "2\n",
      "[3, 1, 'foo']\n",
      "[3, 1, 'foo', 'bar']\n",
      "bar [3, 1, 'foo']\n",
      "\n",
      "\n",
      "\n",
      "[0, 1, 2, 3, 4]\n",
      "[2, 3]\n",
      "[2, 3, 4]\n",
      "[0, 1]\n",
      "[0, 1, 2, 3, 4]\n",
      "[0, 1, 2, 3]\n",
      "[0, 1, 8, 9, 4]\n",
      "\n",
      "\n",
      "cat\n",
      "dog\n",
      "monkey\n",
      "\n",
      "\n",
      "#1: cat\n",
      "#2: dog\n",
      "#3: monkey\n",
      "\n",
      "\n",
      "[0, 1, 4, 9, 16]\n",
      "\n",
      "\n",
      "[0, 4, 16]\n"
     ]
    }
   ],
   "source": [
    "#List\n",
    "\n",
    "xs = [3, 1, 2]\n",
    "print(xs, xs[2]) # [3, 1, 2] 2\n",
    "print(xs[-1]) # xs[-1] = xs[-1+3] = 2 \n",
    "\n",
    "\n",
    "xs[2] = 'foo'\n",
    "print(xs) # -> [3, 1, 'foo']\n",
    "\n",
    "xs.append('bar')\n",
    "print(xs) # -> [3, 1, 'foo', 'bar']\n",
    "\n",
    "x = xs.pop()\n",
    "print(x, xs) # -> 'bar' [3, 1, 'foo']\n",
    "\n",
    "print('\\n\\n')\n",
    "\n",
    "nums = list(range(5))\n",
    "print(nums)\n",
    "print(nums[2:4])\n",
    "print(nums[2:])\n",
    "print(nums[:2])\n",
    "print(nums[:])\n",
    "print(nums[:-1])\n",
    "nums[2:4] = [8,9]\n",
    "print(nums)\n",
    "\n",
    "print('\\n')\n",
    "\n",
    "animals = ['cat', 'dog', 'monkey']\n",
    "for animal in animals: \n",
    "    print(animal)\n",
    "    \n",
    "print('\\n')\n",
    "\n",
    "    \n",
    "for idx, animal in enumerate(animals):\n",
    "    print('#%d: %s' % (idx + 1, animal))\n",
    "    \n",
    "print('\\n')\n",
    "\n",
    "nums = [0, 1, 2, 3, 4]\n",
    "squares = []\n",
    "for x in nums:\n",
    "    squares.append(x ** 2)\n",
    "print(squares)\n",
    "\n",
    "# squares = [x ** 2 for x in nums]\n",
    "\n",
    "print('\\n')\n",
    "\n",
    "even_squares = [x ** 2 for x in nums if x % 2 == 0]\n",
    "print(even_squares)"
   ]
  },
  {
   "cell_type": "code",
   "execution_count": 41,
   "id": "c42ecf93",
   "metadata": {},
   "outputs": [
    {
     "name": "stdout",
     "output_type": "stream",
     "text": [
      "cute\n",
      "True\n",
      "wet\n",
      "N/A\n",
      "wet\n",
      "N/A\n",
      "\n",
      "\n",
      "A person has 2 legs\n",
      "A cat has 4 legs\n",
      "A spider has 8 legs\n",
      "\n",
      "\n",
      "{0: 0, 2: 4, 4: 16}\n"
     ]
    }
   ],
   "source": [
    "# Dictionaries\n",
    "\n",
    "d = {'cat': 'cute', 'dog': 'furry'} \n",
    "\n",
    "print(d['cat']) # -> cute      \n",
    "print('cat' in d) # -> True (check)\n",
    "\n",
    "d['fish'] = 'wet'     \n",
    "print(d['fish'])\n",
    "\n",
    "# print(d['monkey'])  \n",
    "print(d.get('monkey', 'N/A')) \n",
    "print(d.get('fish', 'N/A'))  \n",
    "\n",
    "del d['fish']    # remove    \n",
    "print(d.get('fish', 'N/A')) \n",
    "\n",
    "print('\\n')\n",
    "\n",
    "d = {'person': 2, 'cat': 4, 'spider': 8}\n",
    "for animal in d:\n",
    "    legs = d[animal]\n",
    "    print('A %s has %d legs' % (animal, legs))\n",
    "# similar to    \n",
    "#for animal, legs in d.items():\n",
    "#    print('A %s has %d legs' % (animal, legs))\n",
    "\n",
    "print('\\n')\n",
    "\n",
    "nums = [0, 1, 2, 3, 4]\n",
    "even_num_to_square = {x: x ** 2 for x in nums if x % 2 == 0}\n",
    "print(even_num_to_square)"
   ]
  },
  {
   "cell_type": "code",
   "execution_count": 130,
   "id": "36154395",
   "metadata": {},
   "outputs": [
    {
     "name": "stdout",
     "output_type": "stream",
     "text": [
      "True\n",
      "False\n",
      "True\n",
      "3\n",
      "3\n",
      "2\n",
      "\n",
      "\n",
      "#1: fish\n",
      "#2: dog\n",
      "#3: cat\n",
      "\n",
      "\n",
      "{0, 1, 2, 3, 4, 5}\n"
     ]
    }
   ],
   "source": [
    "#Sets\n",
    "\n",
    "animals = {'cat', 'dog'}\n",
    "print('cat' in animals) # check -> True\n",
    "print('fish' in animals) # False\n",
    "\n",
    "animals.add('fish')\n",
    "print('fish' in animals) # -> True\n",
    "\n",
    "print(len(animals)) # 3 \n",
    "\n",
    "animals.add('cat') # already in the set\n",
    "print(len(animals)) # -> 3\n",
    "\n",
    "animals.remove('cat')\n",
    "print(len(animals)) # 2\n",
    "\n",
    "print('\\n')\n",
    "\n",
    "animals = {'cat', 'dog', 'fish'}\n",
    "for idx, animal in enumerate(animals):\n",
    "    print('#%d: %s' % (idx + 1, animal))\n",
    "\n",
    "print('\\n')\n",
    "    \n",
    "from math import sqrt\n",
    "nums = {int(sqrt(x)) for x in range(30)}\n",
    "print(nums) "
   ]
  },
  {
   "cell_type": "code",
   "execution_count": 47,
   "id": "a4dc96ca",
   "metadata": {},
   "outputs": [
    {
     "name": "stdout",
     "output_type": "stream",
     "text": [
      "<class 'tuple'>\n",
      "5\n",
      "1\n"
     ]
    }
   ],
   "source": [
    "# Tuples\n",
    "d = {(x, x + 1): x for x in range(10)}\n",
    "t = (5, 6)\n",
    "print(type(t))\n",
    "print(d[t])\n",
    "print(d[1, 2])"
   ]
  },
  {
   "cell_type": "code",
   "execution_count": 49,
   "id": "cc373168",
   "metadata": {},
   "outputs": [
    {
     "name": "stdout",
     "output_type": "stream",
     "text": [
      "negative\n",
      "zero\n",
      "positive\n",
      "\n",
      "\n",
      "Hello, Bob\n",
      "HELLO, FRED!\n"
     ]
    }
   ],
   "source": [
    "# Functions\n",
    "\n",
    "def sign(x):\n",
    "    if x > 0:\n",
    "        return 'positive'\n",
    "    elif x < 0:\n",
    "        return 'negative'\n",
    "    else:\n",
    "        return 'zero'\n",
    "\n",
    "for x in [-1, 0, 1]:\n",
    "    print(sign(x))\n",
    "\n",
    "print('\\n')\n",
    "\n",
    "def hello(name, loud=False):\n",
    "    if loud:\n",
    "        print('HELLO, %s!' % name.upper())\n",
    "    else:\n",
    "        print('Hello, %s' % name)\n",
    "\n",
    "hello('Bob') # -> Bob\n",
    "hello('Fred', loud=True)  # -> FRED"
   ]
  },
  {
   "cell_type": "code",
   "execution_count": 53,
   "id": "e3d96da9",
   "metadata": {},
   "outputs": [
    {
     "name": "stdout",
     "output_type": "stream",
     "text": [
      "Hello, Fred\n",
      "HELLO, FRED!\n"
     ]
    }
   ],
   "source": [
    "class Greeter(object):\n",
    "\n",
    "    # Constructor\n",
    "    def __init__(self, name):\n",
    "        self.name = name  \n",
    "        \n",
    "    # Instance method\n",
    "    def greet(self, loud=False):\n",
    "        if loud:\n",
    "            print('HELO, %s!' % self.name.upper())\n",
    "        else:\n",
    "            print('Hello, %s' % self.name)\n",
    "\n",
    "g = Greeter('Fred')  \n",
    "g.greet()            \n",
    "g.greet(loud=True) "
   ]
  },
  {
   "cell_type": "code",
   "execution_count": 65,
   "id": "b5e41612",
   "metadata": {},
   "outputs": [
    {
     "name": "stdout",
     "output_type": "stream",
     "text": [
      "<class 'numpy.ndarray'>\n",
      "(3,)\n",
      "1 2 3\n",
      "[15  2  3]\n",
      "(2, 3)\n",
      "1 2 3\n",
      "\n",
      "\n",
      "[[0. 0. 0.]\n",
      " [0. 0. 0.]]\n",
      "[1. 1.]\n",
      "[[7 7]\n",
      " [7 7]\n",
      " [7 7]]\n"
     ]
    }
   ],
   "source": [
    "# Arrays\n",
    "\n",
    "import numpy as np\n",
    "\n",
    "a = np.array([1, 2, 3])\n",
    "print(type(a)) # -> <class 'numpy.ndarray'\n",
    "print(a.shape) # -> (3,)\n",
    "print(a[0], a[1], a[2]) # 1 2 3\n",
    "\n",
    "a[0] = 15\n",
    "print(a) # [15, 2, 3]\n",
    "\n",
    "b = np.array([[1,2,3], [4,5,6]])\n",
    "print(b.shape) # (2,3)\n",
    "print(b[0,0], b[0,1], b[0,2]) # 1 2 3\n",
    "\n",
    "print('\\n')\n",
    "\n",
    "a = np.zeros((2,3))\n",
    "print(a) # [[0. 0. 0.][0. 0. 0.]]\n",
    "\n",
    "b = np.ones((2,)) \n",
    "print(b) # [1. 1.]\n",
    "\n",
    "c = np.full((3,2), 7)\n",
    "print(c) # [[7. 7.][7. 7.][7. 7.]]"
   ]
  },
  {
   "cell_type": "code",
   "execution_count": 69,
   "id": "392846ad",
   "metadata": {},
   "outputs": [
    {
     "name": "stdout",
     "output_type": "stream",
     "text": [
      "[[ 1  2  3  4]\n",
      " [ 5  6  7  8]\n",
      " [ 9 10 11 12]]\n",
      "2\n",
      "77\n",
      "\n",
      "\n",
      "[5 6 7 8] (4,)\n",
      "[[5 6 7 8]] (1, 4)\n",
      "[ 2  6 10] (3,)\n",
      "[[ 2]\n",
      " [ 6]\n",
      " [10]] (3, 1)\n"
     ]
    }
   ],
   "source": [
    "# Array indexing\n",
    "\n",
    "import numpy as np\n",
    "\n",
    "a = np.array([[1,2,3,4], [5,6,7,8], [9,10,11,12]])\n",
    "\n",
    "b = a[:2, 1:3]\n",
    "# b = [[2 3][6 7]] || b = np.array([2,3], [6,7])\n",
    "\n",
    "print(a)\n",
    "\n",
    "print(a[0, 1]) # 2\n",
    "\n",
    "# b = [[2 3][6 7]] || b = np.array([2,3], [6,7])\n",
    "b[0, 0] = 77 # b = [[77 3][6 7]]\n",
    "print (a[0, 1]) # 77\n",
    "\n",
    "print('\\n')\n",
    "\n",
    "a = np.array([[1,2,3,4], [5,6,7,8], [9,10,11,12]])\n",
    "\n",
    "row_r1 = a[1, :] # [5 6 7 8]\n",
    "row_r2 = a[1:2, :] # [[5 6 7 8]]\n",
    "\n",
    "print(row_r1, row_r1.shape)\n",
    "print(row_r2, row_r2.shape)\n",
    "\n",
    "col_r1 = a[:, 1]\n",
    "col_r2 = a[:, 1:2]\n",
    "\n",
    "print(col_r1, col_r1.shape)\n",
    "print(col_r2, col_r2.shape)"
   ]
  },
  {
   "cell_type": "code",
   "execution_count": 83,
   "id": "7da25b47",
   "metadata": {},
   "outputs": [
    {
     "name": "stdout",
     "output_type": "stream",
     "text": [
      "[1 4 5]\n",
      "[1 4 5]\n",
      "[2 2]\n",
      "[2 2]\n",
      "\n",
      "\n",
      "[[ 1  2  3]\n",
      " [ 4  5  6]\n",
      " [ 7  8  9]\n",
      " [10 11 12]]\n",
      "\n",
      "\n",
      "[ 1  6  7 11]\n",
      "\n",
      "\n",
      "[[ 1  2  3]\n",
      " [ 4  5  6]\n",
      " [ 7  8  9]\n",
      " [10 11 12]]\n"
     ]
    }
   ],
   "source": [
    "import numpy as np\n",
    "\n",
    "a = np.array([[1,2], [3,4], [5,6]])\n",
    "print(a[[0,1,2],[0,1,0]])\n",
    "# a[0][0] = 1; a[1][1] = 4; a[2][0] = 5\n",
    "\n",
    "print(np.array([a[0, 0], a[1, 1], a[2, 0]]))\n",
    "\n",
    "print(a[[0,0], [1,1]])\n",
    "# a[0,1] = 2; a[0,1] = 2\n",
    "\n",
    "print(np.array([a[0,1], a[0,1]]))\n",
    "\n",
    "print('\\n')\n",
    "\n",
    "a = np.array([[1,2,3], [4,5,6], [7,8,9], [10, 11, 12]])\n",
    "print(a)\n",
    "\n",
    "print('\\n')\n",
    "\n",
    "b = np.array([0, 2, 0, 1])\n",
    "print(a[np.arange(4), b])\n",
    "\n",
    "\n",
    "a[np.arange(4), b] == 10\n",
    "\n",
    "print('\\n')\n",
    "\n",
    "print(a)"
   ]
  },
  {
   "cell_type": "code",
   "execution_count": 87,
   "id": "b365c15c",
   "metadata": {},
   "outputs": [
    {
     "name": "stdout",
     "output_type": "stream",
     "text": [
      "[[False False]\n",
      " [ True  True]\n",
      " [ True  True]]\n",
      "[3 4 5 6]\n",
      "[3 4 5 6]\n"
     ]
    }
   ],
   "source": [
    "# Boolean array indexing\n",
    "\n",
    "a = np.array([[1,2], [3, 4], [5, 6]])\n",
    "\n",
    "book_idx = (a > 2) # ktra phan tu > 2\n",
    "\n",
    "print(book_idx)\n",
    "\n",
    "print(a[book_idx]) # [3 4 5 6]\n",
    "\n",
    "print(a[a>2]) # [3 4 5 6]"
   ]
  },
  {
   "cell_type": "code",
   "execution_count": 90,
   "id": "a02748d0",
   "metadata": {},
   "outputs": [
    {
     "name": "stdout",
     "output_type": "stream",
     "text": [
      "int64\n",
      "float64\n",
      "int64\n",
      "[1 2]\n"
     ]
    }
   ],
   "source": [
    "# Datatypes\n",
    "import numpy as np\n",
    "\n",
    "x = np.array([1, 2])\n",
    "print(x.dtype) # -> int64\n",
    "\n",
    "x = np.array([1.0, 2.1])\n",
    "print(x.dtype) # -> float64\n",
    "\n",
    "x = np.array([1.1, 2], dtype=np.int64)\n",
    "print(x.dtype)\n",
    "print(x)"
   ]
  },
  {
   "cell_type": "code",
   "execution_count": 100,
   "id": "6ac28e79",
   "metadata": {},
   "outputs": [
    {
     "name": "stdout",
     "output_type": "stream",
     "text": [
      "[[ 6.  8.]\n",
      " [10. 12.]]\n",
      "[[ 6.  8.]\n",
      " [10. 12.]]\n",
      "[[-4. -4.]\n",
      " [-4. -4.]]\n",
      "[[-4. -4.]\n",
      " [-4. -4.]]\n",
      "[[ 5. 12.]\n",
      " [21. 32.]]\n",
      "[[ 5. 12.]\n",
      " [21. 32.]]\n",
      "[[0.2        0.33333333]\n",
      " [0.42857143 0.5       ]]\n",
      "[[0.2        0.33333333]\n",
      " [0.42857143 0.5       ]]\n",
      "[[1.         1.41421356]\n",
      " [1.73205081 2.        ]]\n",
      "\n",
      "\n",
      "219\n",
      "219\n",
      "[29 67]\n",
      "[29 67]\n",
      "[[19 22]\n",
      " [43 50]]\n",
      "[[19 22]\n",
      " [43 50]]\n",
      "\n",
      "\n",
      "10\n",
      "[4 6]\n",
      "[3 7]\n",
      "\n",
      "\n",
      "[[1 2]\n",
      " [3 4]]\n",
      "[[1 3]\n",
      " [2 4]]\n",
      "\n",
      "\n",
      "[1 2 3]\n",
      "[1 2 3]\n"
     ]
    }
   ],
   "source": [
    "# Array math\n",
    "import numpy as np\n",
    "\n",
    "x = np.array([[1,2],[3,4]], dtype=np.float64)\n",
    "y = np.array([[5,6],[7,8]], dtype=np.float64)\n",
    "\n",
    "print(x + y)\n",
    "print(np.add(x,y))\n",
    "# print(x + y) similar to print(np.add(x,y))\n",
    "\n",
    "print (x - y)\n",
    "print(np.subtract(x, y))\n",
    "# print(x - y) similar to print(np.subtract(x, y))\n",
    "\n",
    "print(x * y)\n",
    "print(np.multiply(x, y))\n",
    "# print(x * y) similar to print(np.multiply(x, y))\n",
    "\n",
    "print(x / y)\n",
    "print(np.divide(x, y))\n",
    "# print(x / y) similar to print(np.divide(x, y))\n",
    "\n",
    "print(np.sqrt(x))\n",
    "\n",
    "print('\\n')\n",
    "\n",
    "x = np.array([[1,2],[3,4]])\n",
    "y = np.array([[5,6],[7,8]])\n",
    "\n",
    "v = np.array([9,10])\n",
    "w = np.array([11, 12])\n",
    "\n",
    "print(v.dot(w))\n",
    "print(np.dot(v, w))\n",
    "# -> 9*11 + 10*12 = 219\n",
    "# print(v.dot(w)) similar to print(np.dot(v, w))\n",
    "# nhan 2 ma tran\n",
    "\n",
    "print(x.dot(v))\n",
    "print(np.dot(x, v))\n",
    "# [1*9+2*10 3*9+4*10] = [29 67]\n",
    "\n",
    "print(x.dot(y))\n",
    "print(np.dot(x, y))\n",
    "#[[19 22] [43 50]]\n",
    "# nhan 2 ma tran\n",
    "\n",
    "print('\\n')\n",
    "\n",
    "x = np.array([[1,2],[3,4]])\n",
    "print(np.sum(x))\n",
    "# 1+2+3+4 = 10\n",
    "\n",
    "print(np.sum(x, axis=0))\n",
    "# tong cua moi cot -> [4 6]\n",
    "\n",
    "print(np.sum(x, axis=1))\n",
    "# tong cua moi hang -> [3 7]\n",
    "\n",
    "print('\\n')\n",
    "\n",
    "x = np.array([[1,2], [3,4]])\n",
    "print(x)\n",
    "print(x.T)\n",
    "\n",
    "print('\\n')\n",
    "\n",
    "v = np.array([1,2,3])\n",
    "print(v)    # Prints \"[1 2 3]\"\n",
    "print(v.T)  # Prints \"[1 2 3]\""
   ]
  },
  {
   "cell_type": "code",
   "execution_count": 109,
   "id": "3b5d74d2",
   "metadata": {},
   "outputs": [
    {
     "name": "stdout",
     "output_type": "stream",
     "text": [
      "[[ 1  2  3]\n",
      " [ 4  5  6]\n",
      " [ 7  8  9]\n",
      " [10 11 12]]\n",
      "\n",
      "\n",
      "[[ 2  2  4]\n",
      " [ 5  5  7]\n",
      " [ 8  8 10]\n",
      " [11 11 13]]\n",
      "\n",
      "\n",
      "[[1 0 1]\n",
      " [1 0 1]\n",
      " [1 0 1]\n",
      " [1 0 1]]\n",
      "\n",
      "\n",
      "[[ 2  2  4]\n",
      " [ 5  5  7]\n",
      " [ 8  8 10]\n",
      " [11 11 13]]\n",
      "\n",
      "\n",
      "[[ 2  2  4]\n",
      " [ 5  5  7]\n",
      " [ 8  8 10]\n",
      " [11 11 13]]\n"
     ]
    }
   ],
   "source": [
    "# Broadcasting\n",
    "import numpy as np\n",
    "\n",
    "x = np.array([[1,2,3], [4,5,6], [7,8,9], [10, 11, 12]])\n",
    "v = np.array([1, 0, 1])\n",
    "y = np.empty_like(x) # tao ma tran y giong x \n",
    "\n",
    "print(y)\n",
    "\n",
    "print('\\n')\n",
    "\n",
    "for i in range(4):\n",
    "    y[i, :] = x[i, :] + v\n",
    "    \n",
    "print(y)\n",
    "\n",
    "print('\\n')\n",
    "\n",
    "x = np.array([[1,2,3], [4,5,6], [7,8,9], [10, 11, 12]])\n",
    "v = np.array([1, 0, 1])\n",
    "vv = np.tile(v, (4, 1))\n",
    "\n",
    "print(vv)\n",
    "\n",
    "print('\\n')\n",
    "\n",
    "y = x + vv\n",
    "print(y)\n",
    "\n",
    "print('\\n')\n",
    "\n",
    "x = np.array([[1,2,3], [4,5,6], [7,8,9], [10, 11, 12]])\n",
    "v = np.array([1, 0, 1])\n",
    "y = x + v\n",
    "print(y)"
   ]
  },
  {
   "cell_type": "code",
   "execution_count": 3,
   "id": "2bf48f41",
   "metadata": {},
   "outputs": [
    {
     "name": "stdout",
     "output_type": "stream",
     "text": [
      "[[ 4  5]\n",
      " [ 8 10]\n",
      " [12 15]]\n",
      "[[2 4 6]\n",
      " [5 7 9]]\n",
      "[[ 5  6  7]\n",
      " [ 9 10 11]]\n",
      "[[ 5  6  7]\n",
      " [ 9 10 11]]\n",
      "[[ 2  4  6]\n",
      " [ 8 10 12]]\n"
     ]
    }
   ],
   "source": [
    "import numpy as np\n",
    "\n",
    "v = np.array([1, 2, 3])\n",
    "w = np.array([4, 5])\n",
    "\n",
    "print(np.reshape(v, (3, 1)) * w)\n",
    "\n",
    "x = np.array([[1,2,3], [4,5,6]])\n",
    "print(x + v)\n",
    "\n",
    "print((x.T + w).T)\n",
    "print(x + np.reshape(w, (2, 1)))\n",
    "print(x * 2)"
   ]
  },
  {
   "cell_type": "code",
   "execution_count": 4,
   "id": "1837753c",
   "metadata": {},
   "outputs": [
    {
     "name": "stdout",
     "output_type": "stream",
     "text": [
      "After local assignment: test spam\n",
      "After nonlocal assignment: nonlocal spam\n",
      "After global assignment: nonlocal spam\n",
      "In global scope: global spam\n"
     ]
    }
   ],
   "source": [
    "#import imageio\n",
    "#---------------#\n",
    "\n",
    "def scope_test():\n",
    "    def do_local():\n",
    "        spam = \"local spam\"\n",
    "\n",
    "    def do_nonlocal():\n",
    "        nonlocal spam\n",
    "        spam = \"nonlocal spam\"\n",
    "\n",
    "    def do_global():\n",
    "        global spam\n",
    "        spam = \"global spam\"\n",
    "\n",
    "    spam = \"test spam\"\n",
    "    do_local()\n",
    "    print(\"After local assignment:\", spam)\n",
    "    do_nonlocal()\n",
    "    print(\"After nonlocal assignment:\", spam)\n",
    "    do_global()\n",
    "    print(\"After global assignment:\", spam)\n",
    "\n",
    "scope_test()\n",
    "print(\"In global scope:\", spam)"
   ]
  },
  {
   "cell_type": "code",
   "execution_count": 2,
   "id": "a42f6173",
   "metadata": {},
   "outputs": [
    {
     "data": {
      "image/png": "[encoded data removed]",
      "text/plain": [
       "<Figure size 640x480 with 1 Axes>"
      ]
     },
     "metadata": {},
     "output_type": "display_data"
    }
   ],
   "source": [
    "import numpy as np\n",
    "import matplotlib.pyplot as plt\n",
    "\n",
    "x = np.arange(0, 3*np.pi, 0.1)\n",
    "y = np.sin(x)\n",
    "\n",
    "plt.plot(x, y)\n",
    "plt.show()\n"
   ]
  },
  {
   "cell_type": "code",
   "execution_count": 9,
   "id": "6aaed5b0",
   "metadata": {},
   "outputs": [
    {
     "data": {
      "image/png": "[encoded data removed]",
      "text/plain": [
       "<Figure size 640x480 with 1 Axes>"
      ]
     },
     "metadata": {},
     "output_type": "display_data"
    }
   ],
   "source": [
    "import numpy as np\n",
    "import matplotlib.pyplot as plt\n",
    "\n",
    "x = np.arange(0, 3*np.pi, 0.1)\n",
    "y_sin = np.sin(x)\n",
    "y_cos = np.cos(x)\n",
    "\n",
    "plt.plot(x, y_sin)\n",
    "plt.plot(x, y_cos)\n",
    "plt.plot(x, y_cos + y_sin)\n",
    "\n",
    "plt.xlabel('x axis label')\n",
    "plt.ylabel('y axis label')\n",
    "\n",
    "plt.title('Sine and Cosine')\n",
    "\n",
    "plt.legend(['Sine', 'Cosine', 'Sine+Cosine'])\n",
    "\n",
    "plt.show()"
   ]
  },
  {
   "cell_type": "code",
   "execution_count": 20,
   "id": "0d795155",
   "metadata": {},
   "outputs": [
    {
     "name": "stderr",
     "output_type": "stream",
     "text": [
      "/var/folders/0j/1bt7r9hd5fgd_htnq12vdfsm0000gn/T/ipykernel_1455/898330995.py:16: MatplotlibDeprecationWarning: Auto-removal of overlapping axes is deprecated since 3.6 and will be removed two minor releases later; explicitly call ax.remove() as needed.\n",
      "  plt.subplot(3, 1, 3)\n"
     ]
    },
    {
     "data": {
      "image/png": "[encoded data removed]",
      "text/plain": [
       "<Figure size 640x480 with 2 Axes>"
      ]
     },
     "metadata": {},
     "output_type": "display_data"
    }
   ],
   "source": [
    "import numpy as np\n",
    "import matplotlib.pyplot as plt\n",
    "\n",
    "x = np.arange(0, 3*np.pi, 0.1)\n",
    "y_sin = np.sin(x)\n",
    "y_cos = np.cos(x)\n",
    "\n",
    "plt.subplot(2, 1, 1)\n",
    "plt.plot(x, y_sin)\n",
    "plt.title('Sine')\n",
    "\n",
    "plt.subplot(2, 1, 2)\n",
    "plt.plot(x, y_cos)\n",
    "plt.title('Cosine')\n",
    "\n",
    "# plt.subplot(3, 1, 3)\n",
    "# plt.plot(x, y_cos + y_sin)\n",
    "# plt.title('Cosine')\n",
    "\n",
    "plt.show()"
   ]
  },
  {
   "cell_type": "code",
   "execution_count": null,
   "id": "19e0cdd2",
   "metadata": {},
   "outputs": [],
   "source": []
  }
 ],
 "metadata": {
  "kernelspec": {
   "display_name": "Python 3 (ipykernel)",
   "language": "python",
   "name": "python3"
  },
  "language_info": {
   "codemirror_mode": {
    "name": "ipython",
    "version": 3
   },
   "file_extension": ".py",
   "mimetype": "text/x-python",
   "name": "python",
   "nbconvert_exporter": "python",
   "pygments_lexer": "ipython3",
   "version": "3.9.12"
  }
 },
 "nbformat": 4,
 "nbformat_minor": 5
}
